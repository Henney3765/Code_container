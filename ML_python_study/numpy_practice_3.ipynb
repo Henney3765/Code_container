{
 "cells": [
  {
   "cell_type": "markdown",
   "metadata": {},
   "source": [
    "## numpy - 기본 통계량과 시뮬레이션"
   ]
  },
  {
   "cell_type": "code",
   "execution_count": 2,
   "metadata": {},
   "outputs": [],
   "source": [
    "## Numpy practice\n",
    "## 2021.01.27\n",
    "## JeongHyeon Kim"
   ]
  },
  {
   "cell_type": "code",
   "execution_count": 7,
   "metadata": {},
   "outputs": [],
   "source": [
    "import numpy as np\n",
    "# numpy의 통계 및 자주 사용하는 함수\n",
    "# Basic Statistics : cov, mean, std, var\n",
    "# 난수 생성 함수: randint, rand, randn"
   ]
  },
  {
   "cell_type": "markdown",
   "metadata": {},
   "source": [
    "## cov: 공분산을 계산하는 함수"
   ]
  },
  {
   "cell_type": "code",
   "execution_count": 8,
   "metadata": {},
   "outputs": [],
   "source": [
    "x = [-2.1, -1, 4.3]\n",
    "y = [3, 1.1, 0.12]"
   ]
  },
  {
   "cell_type": "code",
   "execution_count": 9,
   "metadata": {},
   "outputs": [],
   "source": [
    "X = np.stack((x,y), axis=0)"
   ]
  },
  {
   "cell_type": "code",
   "execution_count": 20,
   "metadata": {},
   "outputs": [
    {
     "data": {
      "text/plain": [
       "array([[-2.1 , -1.  ,  4.3 ],\n",
       "       [ 3.  ,  1.1 ,  0.12]])"
      ]
     },
     "execution_count": 20,
     "metadata": {},
     "output_type": "execute_result"
    }
   ],
   "source": [
    "X"
   ]
  },
  {
   "cell_type": "code",
   "execution_count": 21,
   "metadata": {},
   "outputs": [
    {
     "data": {
      "text/plain": [
       "-4.2860000000000005"
      ]
     },
     "execution_count": 21,
     "metadata": {},
     "output_type": "execute_result"
    }
   ],
   "source": [
    "np.cov(X)[0][1] # x, y의 공분산값"
   ]
  },
  {
   "cell_type": "code",
   "execution_count": 22,
   "metadata": {},
   "outputs": [
    {
     "data": {
      "text/plain": [
       "array([[11.71      , -4.286     ],\n",
       "       [-4.286     ,  2.14413333]])"
      ]
     },
     "execution_count": 22,
     "metadata": {},
     "output_type": "execute_result"
    }
   ],
   "source": [
    "np.cov(x,y)"
   ]
  },
  {
   "cell_type": "code",
   "execution_count": 23,
   "metadata": {},
   "outputs": [
    {
     "data": {
      "text/plain": [
       "array([[11.71, 11.71],\n",
       "       [11.71, 11.71]])"
      ]
     },
     "execution_count": 23,
     "metadata": {},
     "output_type": "execute_result"
    }
   ],
   "source": [
    "np.cov(x, x)"
   ]
  },
  {
   "cell_type": "code",
   "execution_count": 24,
   "metadata": {},
   "outputs": [
    {
     "data": {
      "text/plain": [
       "array([[2.14413333, 2.14413333],\n",
       "       [2.14413333, 2.14413333]])"
      ]
     },
     "execution_count": 24,
     "metadata": {},
     "output_type": "execute_result"
    }
   ],
   "source": [
    "np.cov(y, y)"
   ]
  },
  {
   "cell_type": "code",
   "execution_count": 25,
   "metadata": {},
   "outputs": [],
   "source": [
    "a = np.random.rand(30)\n",
    "b = np.random.rand(30)"
   ]
  },
  {
   "cell_type": "code",
   "execution_count": 26,
   "metadata": {},
   "outputs": [
    {
     "data": {
      "text/plain": [
       "array([0.50509917, 0.55733545, 0.54452699, 0.38202083, 0.22369821,\n",
       "       0.38412459, 0.67339923, 0.52984093, 0.01269139, 0.93128121,\n",
       "       0.54527252, 0.94723826, 0.83321541, 0.81089515, 0.91294524,\n",
       "       0.99228476, 0.3966165 , 0.27635631, 0.46716318, 0.75975219,\n",
       "       0.41996846, 0.76582349, 0.8664351 , 0.93701572, 0.1449256 ,\n",
       "       0.82237765, 0.01298344, 0.08198368, 0.40912472, 0.90076674])"
      ]
     },
     "execution_count": 26,
     "metadata": {},
     "output_type": "execute_result"
    }
   ],
   "source": [
    "a"
   ]
  },
  {
   "cell_type": "code",
   "execution_count": 27,
   "metadata": {},
   "outputs": [
    {
     "data": {
      "text/plain": [
       "array([0.85476312, 0.95910519, 0.64411191, 0.37256129, 0.07063512,\n",
       "       0.30573214, 0.86625169, 0.80713359, 0.23199304, 0.67252496,\n",
       "       0.5261627 , 0.46910214, 0.79401067, 0.28483742, 0.14580454,\n",
       "       0.2570674 , 0.9931471 , 0.53325968, 0.5426559 , 0.3551898 ,\n",
       "       0.29046982, 0.49952504, 0.2622449 , 0.58030142, 0.07523538,\n",
       "       0.70911581, 0.35001362, 0.06509547, 0.64693985, 0.21906336])"
      ]
     },
     "execution_count": 27,
     "metadata": {},
     "output_type": "execute_result"
    }
   ],
   "source": [
    "b"
   ]
  },
  {
   "cell_type": "code",
   "execution_count": 28,
   "metadata": {},
   "outputs": [
    {
     "data": {
      "text/plain": [
       "array([[0.08926645, 0.01646009],\n",
       "       [0.01646009, 0.07387172]])"
      ]
     },
     "execution_count": 28,
     "metadata": {},
     "output_type": "execute_result"
    }
   ],
   "source": [
    "np.cov(a,b)"
   ]
  },
  {
   "cell_type": "code",
   "execution_count": 29,
   "metadata": {},
   "outputs": [
    {
     "data": {
      "text/plain": [
       "array([[0.08926645, 0.08926645],\n",
       "       [0.08926645, 0.08926645]])"
      ]
     },
     "execution_count": 29,
     "metadata": {},
     "output_type": "execute_result"
    }
   ],
   "source": [
    "np.cov(a,a)"
   ]
  },
  {
   "cell_type": "code",
   "execution_count": 31,
   "metadata": {},
   "outputs": [
    {
     "data": {
      "text/plain": [
       "array([[0.07387172, 0.07387172],\n",
       "       [0.07387172, 0.07387172]])"
      ]
     },
     "execution_count": 31,
     "metadata": {},
     "output_type": "execute_result"
    }
   ],
   "source": [
    "np.cov(b,b)"
   ]
  },
  {
   "cell_type": "code",
   "execution_count": 32,
   "metadata": {},
   "outputs": [
    {
     "data": {
      "text/plain": [
       "0.016460088235868798"
      ]
     },
     "execution_count": 32,
     "metadata": {},
     "output_type": "execute_result"
    }
   ],
   "source": [
    "np.cov(a,b)[0][1]"
   ]
  },
  {
   "cell_type": "markdown",
   "metadata": {},
   "source": [
    "## mean:평균"
   ]
  },
  {
   "cell_type": "code",
   "execution_count": 34,
   "metadata": {},
   "outputs": [],
   "source": [
    "a = np.array([[1,2], [3,4]])"
   ]
  },
  {
   "cell_type": "code",
   "execution_count": 36,
   "metadata": {},
   "outputs": [
    {
     "data": {
      "text/plain": [
       "array([[1, 2],\n",
       "       [3, 4]])"
      ]
     },
     "execution_count": 36,
     "metadata": {},
     "output_type": "execute_result"
    }
   ],
   "source": [
    "a"
   ]
  },
  {
   "cell_type": "code",
   "execution_count": 37,
   "metadata": {},
   "outputs": [
    {
     "data": {
      "text/plain": [
       "2.5"
      ]
     },
     "execution_count": 37,
     "metadata": {},
     "output_type": "execute_result"
    }
   ],
   "source": [
    "np.mean(a)"
   ]
  },
  {
   "cell_type": "code",
   "execution_count": 39,
   "metadata": {},
   "outputs": [
    {
     "data": {
      "text/plain": [
       "array([2., 3.])"
      ]
     },
     "execution_count": 39,
     "metadata": {},
     "output_type": "execute_result"
    }
   ],
   "source": [
    "np.mean(a, axis=0)"
   ]
  },
  {
   "cell_type": "code",
   "execution_count": 40,
   "metadata": {},
   "outputs": [
    {
     "data": {
      "text/plain": [
       "array([1.5, 3.5])"
      ]
     },
     "execution_count": 40,
     "metadata": {},
     "output_type": "execute_result"
    }
   ],
   "source": [
    "np.mean(a, axis=1)"
   ]
  },
  {
   "cell_type": "markdown",
   "metadata": {},
   "source": [
    "## std: 표준 편차"
   ]
  },
  {
   "cell_type": "code",
   "execution_count": 41,
   "metadata": {},
   "outputs": [
    {
     "data": {
      "text/plain": [
       "1.118033988749895"
      ]
     },
     "execution_count": 41,
     "metadata": {},
     "output_type": "execute_result"
    }
   ],
   "source": [
    "np.std(a)"
   ]
  },
  {
   "cell_type": "code",
   "execution_count": 42,
   "metadata": {},
   "outputs": [
    {
     "data": {
      "text/plain": [
       "array([1., 1.])"
      ]
     },
     "execution_count": 42,
     "metadata": {},
     "output_type": "execute_result"
    }
   ],
   "source": [
    "np.std(a, axis=0)"
   ]
  },
  {
   "cell_type": "code",
   "execution_count": 43,
   "metadata": {},
   "outputs": [
    {
     "data": {
      "text/plain": [
       "array([0.5, 0.5])"
      ]
     },
     "execution_count": 43,
     "metadata": {},
     "output_type": "execute_result"
    }
   ],
   "source": [
    "np.std(a, axis=1)"
   ]
  },
  {
   "cell_type": "markdown",
   "metadata": {},
   "source": [
    "## var: 분산"
   ]
  },
  {
   "cell_type": "code",
   "execution_count": 44,
   "metadata": {},
   "outputs": [
    {
     "data": {
      "text/plain": [
       "1.25"
      ]
     },
     "execution_count": 44,
     "metadata": {},
     "output_type": "execute_result"
    }
   ],
   "source": [
    "np.var(a)"
   ]
  },
  {
   "cell_type": "code",
   "execution_count": 46,
   "metadata": {},
   "outputs": [
    {
     "data": {
      "text/plain": [
       "array([1., 1.])"
      ]
     },
     "execution_count": 46,
     "metadata": {},
     "output_type": "execute_result"
    }
   ],
   "source": [
    "np.var(a, axis=0)"
   ]
  },
  {
   "cell_type": "code",
   "execution_count": 47,
   "metadata": {},
   "outputs": [
    {
     "data": {
      "text/plain": [
       "array([0.25, 0.25])"
      ]
     },
     "execution_count": 47,
     "metadata": {},
     "output_type": "execute_result"
    }
   ],
   "source": [
    "np.var(a, axis=1)"
   ]
  },
  {
   "cell_type": "markdown",
   "metadata": {},
   "source": [
    "## 난수 생성"
   ]
  },
  {
   "cell_type": "code",
   "execution_count": 49,
   "metadata": {},
   "outputs": [],
   "source": [
    "# randint: 균일 분포의 난수 생성\n",
    "# rand: 0~1 사이의 균일 분포 난수 생성\n",
    "# randn: 가우시안 분포 난수 생성\n",
    "\n",
    "# numpy.random.randint(low, high=None, size=None)\n",
    "# randint() 함수에 low, high를 전달하면 low ~ high -1 데이터를 생성"
   ]
  },
  {
   "cell_type": "code",
   "execution_count": 58,
   "metadata": {},
   "outputs": [
    {
     "data": {
      "text/plain": [
       "array([20, 26, 26, 25, 22, 20, 25, 24, 22, 21])"
      ]
     },
     "execution_count": 58,
     "metadata": {},
     "output_type": "execute_result"
    }
   ],
   "source": [
    "np.random.randint(20, 30, size=10)"
   ]
  },
  {
   "cell_type": "code",
   "execution_count": 59,
   "metadata": {},
   "outputs": [
    {
     "data": {
      "text/plain": [
       "array([0.92877492, 0.08228545, 0.76663986, 0.41126331, 0.25459718,\n",
       "       0.22696246, 0.4655014 , 0.2916978 , 0.63797532, 0.85300476])"
      ]
     },
     "execution_count": 59,
     "metadata": {},
     "output_type": "execute_result"
    }
   ],
   "source": [
    "np.random.rand(10)"
   ]
  },
  {
   "cell_type": "code",
   "execution_count": 65,
   "metadata": {},
   "outputs": [
    {
     "data": {
      "text/plain": [
       "array([[[[0.90983899, 0.48686848, 0.42657928, 0.14972306, 0.62622658],\n",
       "         [0.69816685, 0.19513216, 0.94730616, 0.5014489 , 0.71469916],\n",
       "         [0.24439923, 0.1426398 , 0.7164229 , 0.33508954, 0.57731792],\n",
       "         [0.82081003, 0.06891031, 0.50341961, 0.08873542, 0.56463589],\n",
       "         [0.56375934, 0.76613926, 0.80495392, 0.63353687, 0.7963541 ]],\n",
       "\n",
       "        [[0.80312845, 0.83288839, 0.29827995, 0.26580259, 0.8194508 ],\n",
       "         [0.27479446, 0.36964051, 0.39993539, 0.31910676, 0.14721622],\n",
       "         [0.2667651 , 0.95169643, 0.43927484, 0.83975715, 0.78551719],\n",
       "         [0.09358555, 0.61426032, 0.52519105, 0.55618588, 0.14667281],\n",
       "         [0.37706766, 0.53360612, 0.70394392, 0.22906583, 0.37499601]],\n",
       "\n",
       "        [[0.65284711, 0.77147434, 0.52082935, 0.65753028, 0.03538036],\n",
       "         [0.86605309, 0.97082622, 0.3554667 , 0.07598183, 0.69694546],\n",
       "         [0.92046805, 0.75837512, 0.34420554, 0.27396676, 0.73153359],\n",
       "         [0.1487741 , 0.27263654, 0.88081678, 0.76635217, 0.87252977],\n",
       "         [0.63787601, 0.8065515 , 0.2457082 , 0.40695563, 0.77634517]],\n",
       "\n",
       "        [[0.10090192, 0.75073479, 0.81685292, 0.89568172, 0.81524974],\n",
       "         [0.45073642, 0.86885834, 0.94368399, 0.80251314, 0.32549903],\n",
       "         [0.79389829, 0.21014784, 0.75164447, 0.65953334, 0.7079247 ],\n",
       "         [0.07362769, 0.09935773, 0.94849608, 0.97106272, 0.98884075],\n",
       "         [0.02192208, 0.88086181, 0.38726955, 0.01460527, 0.01075098]]],\n",
       "\n",
       "\n",
       "       [[[0.49452972, 0.03839717, 0.41972027, 0.57379935, 0.65714532],\n",
       "         [0.13088988, 0.80607147, 0.08899346, 0.80414994, 0.41416616],\n",
       "         [0.52149416, 0.91466507, 0.99772432, 0.89831263, 0.1976661 ],\n",
       "         [0.17590539, 0.44350807, 0.11875338, 0.72952585, 0.3839086 ],\n",
       "         [0.70866204, 0.13984496, 0.89459741, 0.84432358, 0.81210622]],\n",
       "\n",
       "        [[0.5519802 , 0.79785919, 0.42069143, 0.11553221, 0.26154669],\n",
       "         [0.90857913, 0.60998003, 0.34861465, 0.4320913 , 0.03239076],\n",
       "         [0.78340064, 0.08196151, 0.86690666, 0.01035521, 0.47271997],\n",
       "         [0.53630088, 0.02143847, 0.11065212, 0.40832094, 0.51731716],\n",
       "         [0.93336738, 0.43601782, 0.00366044, 0.13893675, 0.78852712]],\n",
       "\n",
       "        [[0.4334522 , 0.34706771, 0.30781166, 0.54278299, 0.94588564],\n",
       "         [0.02270238, 0.5026316 , 0.31185743, 0.75976753, 0.7174891 ],\n",
       "         [0.74436667, 0.05444625, 0.66678026, 0.03899665, 0.49969109],\n",
       "         [0.14377063, 0.22929787, 0.11018375, 0.48509855, 0.16543166],\n",
       "         [0.93336193, 0.59907142, 0.40493767, 0.22149203, 0.74406059]],\n",
       "\n",
       "        [[0.09571813, 0.3588327 , 0.54245577, 0.40914902, 0.59438001],\n",
       "         [0.59727221, 0.17962344, 0.10194993, 0.81197959, 0.14204984],\n",
       "         [0.83875588, 0.27551617, 0.09328194, 0.5923294 , 0.96172064],\n",
       "         [0.70025783, 0.17901919, 0.03970057, 0.43029015, 0.16242445],\n",
       "         [0.15266263, 0.2863873 , 0.72899753, 0.47020578, 0.2358669 ]]],\n",
       "\n",
       "\n",
       "       [[[0.14690867, 0.49171997, 0.61246944, 0.30065012, 0.07471494],\n",
       "         [0.86277542, 0.26873325, 0.35516162, 0.74375772, 0.36117732],\n",
       "         [0.71176216, 0.3895045 , 0.09845397, 0.33983232, 0.23686419],\n",
       "         [0.43831571, 0.49797266, 0.73623705, 0.88922366, 0.53799154],\n",
       "         [0.61507174, 0.76256609, 0.92804116, 0.12695495, 0.99525898]],\n",
       "\n",
       "        [[0.08111104, 0.44456606, 0.60397744, 0.65283195, 0.74782474],\n",
       "         [0.95066121, 0.17877653, 0.14761621, 0.78749693, 0.33346521],\n",
       "         [0.6226154 , 0.98020013, 0.53945955, 0.50691815, 0.282516  ],\n",
       "         [0.49250858, 0.57905923, 0.47919446, 0.42830952, 0.71954219],\n",
       "         [0.43558439, 0.05129392, 0.31000934, 0.10388321, 0.06388254]],\n",
       "\n",
       "        [[0.98745868, 0.61059302, 0.27733556, 0.4320739 , 0.82375672],\n",
       "         [0.04264222, 0.09191888, 0.95594962, 0.79318604, 0.13009937],\n",
       "         [0.69884395, 0.83276279, 0.46773839, 0.8317698 , 0.5641611 ],\n",
       "         [0.36288033, 0.33108081, 0.08718425, 0.13437679, 0.61766501],\n",
       "         [0.06742174, 0.16619967, 0.96287137, 0.48299548, 0.42748361]],\n",
       "\n",
       "        [[0.02555868, 0.4648044 , 0.03112302, 0.37966258, 0.60156978],\n",
       "         [0.33758212, 0.05723235, 0.85729838, 0.05605356, 0.97459816],\n",
       "         [0.29476396, 0.25856356, 0.03641157, 0.32142264, 0.06188324],\n",
       "         [0.02071364, 0.27337836, 0.93526464, 0.88545708, 0.65398368],\n",
       "         [0.33941872, 0.97728924, 0.78579801, 0.69243028, 0.97627471]]]])"
      ]
     },
     "execution_count": 65,
     "metadata": {},
     "output_type": "execute_result"
    }
   ],
   "source": [
    "np.random.rand(3,4,5, 5)\n",
    "# 매개변수에 따라 array 구조에 맞게 생성"
   ]
  },
  {
   "cell_type": "code",
   "execution_count": 66,
   "metadata": {},
   "outputs": [
    {
     "data": {
      "text/plain": [
       "array([-0.77081586,  0.34533001, -1.10698035, -0.86422462, -0.46814927,\n",
       "        0.1811089 ,  1.39885632, -1.09940634,  1.12517717, -0.01530247])"
      ]
     },
     "execution_count": 66,
     "metadata": {},
     "output_type": "execute_result"
    }
   ],
   "source": [
    "np.random.randn(10)"
   ]
  },
  {
   "cell_type": "markdown",
   "metadata": {},
   "source": [
    "## 랜덤워크 시뮬레이션"
   ]
  },
  {
   "cell_type": "code",
   "execution_count": 68,
   "metadata": {},
   "outputs": [],
   "source": [
    "np.random.seed(42)\n",
    "t = np.random.randint(-1, 2, size=1000)"
   ]
  },
  {
   "cell_type": "code",
   "execution_count": 69,
   "metadata": {},
   "outputs": [
    {
     "data": {
      "text/plain": [
       "array([ 1, -1,  1,  1, -1, -1,  1,  0,  1,  1,  1,  1, -1,  1,  0, -1,  0,\n",
       "        0,  0,  0, -1, -1,  0,  0, -1, -1, -1,  1,  1,  1,  0,  1,  0,  0,\n",
       "        1,  0,  1,  1, -1,  1, -1,  1,  1, -1, -1,  1,  0, -1,  0,  0,  0,\n",
       "       -1,  0, -1,  0,  1,  1, -1,  1,  1,  0, -1,  0,  0,  0,  0,  0,  0,\n",
       "        0, -1,  1,  0,  0,  0,  0,  0,  0,  1,  1,  0,  1, -1,  0, -1, -1,\n",
       "        0,  1, -1,  0, -1, -1, -1, -1,  1, -1, -1, -1,  1, -1, -1,  1,  1,\n",
       "        1, -1,  1,  1, -1,  1, -1,  0,  1,  0, -1,  1, -1,  0, -1,  1,  1,\n",
       "        0, -1,  1,  0,  1,  1, -1,  1, -1,  1,  0,  1, -1, -1,  0,  1,  1,\n",
       "        0,  1,  1, -1,  1,  1,  0,  0, -1,  1,  1,  1, -1, -1,  0, -1,  1,\n",
       "        1, -1,  1,  1, -1, -1,  1,  1,  1,  0,  0,  0, -1,  0, -1, -1,  0,\n",
       "        0,  0,  1,  0,  1, -1,  1,  0, -1, -1, -1,  1,  0, -1, -1, -1,  1,\n",
       "        1,  0,  1, -1,  0, -1, -1,  1,  0,  1,  1,  0, -1, -1,  0, -1,  0,\n",
       "        0,  1,  0,  1, -1, -1, -1, -1,  1, -1,  0,  0,  0,  1, -1, -1, -1,\n",
       "        1,  0,  0, -1,  0,  0,  1,  1,  1,  1, -1,  1,  0, -1,  0,  0,  0,\n",
       "        1,  1, -1, -1,  1,  0, -1,  1,  1,  1,  0,  1,  1,  1,  1, -1, -1,\n",
       "        1,  0, -1,  1, -1, -1,  0,  1,  1,  0,  0,  1,  1,  0, -1, -1,  0,\n",
       "       -1,  0, -1, -1,  1,  1, -1, -1,  1,  1,  1,  0, -1,  1, -1,  0,  0,\n",
       "        1,  0, -1,  1, -1, -1,  0,  0,  0,  0,  0,  1, -1, -1, -1, -1,  0,\n",
       "       -1,  1,  1, -1, -1,  1,  1,  0,  1,  0,  0,  0,  0,  0, -1,  1,  0,\n",
       "        1,  1,  0, -1,  0, -1,  1, -1, -1, -1,  1,  1, -1, -1,  0, -1,  0,\n",
       "       -1,  0,  1, -1, -1, -1, -1,  0, -1,  1,  1, -1,  1, -1, -1,  1, -1,\n",
       "        1,  0, -1,  0,  1,  0,  0,  1,  0,  0,  1,  0,  1,  0,  1,  1,  0,\n",
       "        0,  0, -1, -1, -1,  1,  0,  1, -1,  0,  1,  0,  1,  0, -1, -1,  0,\n",
       "        1, -1, -1, -1,  0,  0,  1,  1,  1,  0,  0,  1,  1,  0,  1, -1,  0,\n",
       "        1,  0, -1,  0,  0,  0,  0, -1,  0,  0,  1,  0,  1, -1, -1, -1, -1,\n",
       "        1,  0, -1,  0,  1,  1,  1, -1,  0,  0,  0,  1, -1,  1,  1,  0,  1,\n",
       "        0, -1,  0, -1,  0,  1,  1, -1, -1, -1,  0,  0, -1,  1,  0,  0,  0,\n",
       "       -1, -1, -1, -1, -1,  1,  1, -1,  0, -1,  1,  1,  0,  1, -1,  0, -1,\n",
       "       -1,  0, -1,  1, -1,  0,  0,  0, -1,  0,  0, -1,  1, -1,  0,  0, -1,\n",
       "        1,  0,  0,  0, -1,  0,  1,  0,  0,  1,  0, -1, -1, -1,  1,  0, -1,\n",
       "        1,  0,  1, -1, -1, -1,  1,  1, -1,  1, -1, -1,  0,  1, -1, -1,  1,\n",
       "        0,  0, -1,  1,  0,  1,  1, -1,  0, -1,  0,  0,  0,  0,  0,  1, -1,\n",
       "        1,  0, -1,  0, -1,  1, -1, -1, -1, -1, -1,  0, -1, -1,  1, -1,  1,\n",
       "        0, -1,  1,  1,  0, -1, -1,  1, -1,  1, -1,  1, -1,  0, -1, -1,  0,\n",
       "       -1,  0, -1,  1,  1, -1, -1, -1,  1, -1,  1,  0,  1,  1,  0,  1, -1,\n",
       "       -1,  1, -1,  1, -1, -1,  1, -1,  1, -1, -1,  0,  0,  1,  0,  1,  0,\n",
       "       -1,  1,  1, -1,  1,  1,  0,  1, -1,  0,  0, -1, -1,  0,  1,  0, -1,\n",
       "        0, -1,  0,  1,  0,  0, -1, -1, -1,  0,  1, -1, -1,  0, -1,  1,  1,\n",
       "       -1, -1,  0,  1,  1, -1,  0,  1,  1,  0,  0,  1,  1,  0,  1, -1, -1,\n",
       "        0,  0,  0, -1,  1, -1,  1, -1,  1, -1,  0, -1,  1, -1, -1, -1,  0,\n",
       "       -1,  0,  0, -1, -1, -1,  1, -1,  0, -1,  1, -1,  1,  1, -1,  0,  1,\n",
       "       -1, -1,  0,  1,  1, -1, -1,  0,  0,  1,  1, -1,  1,  0,  0, -1,  0,\n",
       "        0,  0,  0, -1, -1,  1,  0,  1, -1, -1, -1, -1, -1, -1, -1,  0,  1,\n",
       "       -1,  0,  0,  1, -1,  1, -1,  0,  0,  0,  0,  1, -1, -1,  1, -1,  0,\n",
       "       -1,  0,  1, -1,  1, -1,  0,  1, -1,  0,  1,  1, -1, -1, -1,  0, -1,\n",
       "        1,  1, -1, -1,  1,  0, -1, -1,  1, -1,  0,  1, -1,  1, -1, -1, -1,\n",
       "        0,  0,  1, -1, -1,  0, -1,  0, -1,  1, -1, -1,  0, -1, -1,  0,  1,\n",
       "        1,  0,  0,  0,  0,  0,  1,  1,  0, -1,  0, -1,  0,  0,  1, -1, -1,\n",
       "        1,  1,  1,  1, -1, -1,  0,  0,  1,  1,  1,  0,  0,  0,  0,  0,  0,\n",
       "        0,  1,  1,  1,  1,  0, -1,  0, -1,  1,  0,  1,  0,  1, -1, -1, -1,\n",
       "        0, -1,  0, -1, -1,  0,  0, -1,  0, -1,  0,  1,  1,  1,  1,  1, -1,\n",
       "        1,  1,  1,  1,  0, -1,  1,  1,  1, -1,  0, -1,  0,  1,  1, -1, -1,\n",
       "        0,  0, -1,  0, -1,  0, -1, -1, -1,  0,  0,  0, -1,  0,  0, -1,  1,\n",
       "       -1,  0, -1,  1, -1,  0,  1,  0,  1,  1, -1, -1,  0, -1, -1,  1, -1,\n",
       "        1,  1,  1,  0,  0,  0,  1,  0,  0, -1,  0,  0,  1,  1,  1,  1,  1,\n",
       "        1,  0,  1,  1, -1,  0,  0,  0,  1,  1,  1, -1,  1, -1,  0,  1, -1,\n",
       "       -1,  1,  0,  0,  0, -1, -1, -1, -1,  0,  1, -1, -1,  0,  1,  1,  0,\n",
       "        0,  1, -1,  1,  0, -1, -1,  0,  0,  0,  1,  1, -1,  0, -1, -1, -1,\n",
       "       -1,  0, -1,  0,  0,  1,  0,  1,  0,  0,  0,  1,  1, -1])"
      ]
     },
     "execution_count": 69,
     "metadata": {},
     "output_type": "execute_result"
    }
   ],
   "source": [
    "t"
   ]
  },
  {
   "cell_type": "code",
   "execution_count": 93,
   "metadata": {},
   "outputs": [],
   "source": [
    "walk = t.cumsum() # 누적합"
   ]
  },
  {
   "cell_type": "code",
   "execution_count": 71,
   "metadata": {},
   "outputs": [
    {
     "data": {
      "image/png": "[encoded data removed]",
      "text/plain": [
       "<Figure size 432x288 with 1 Axes>"
      ]
     },
     "metadata": {
      "needs_background": "light"
     },
     "output_type": "display_data"
    }
   ],
   "source": [
    "import matplotlib.pylab as plt\n",
    "plt.plot(walk)\n",
    "plt.show()"
   ]
  },
  {
   "cell_type": "code",
   "execution_count": 105,
   "metadata": {},
   "outputs": [],
   "source": [
    "l = 100\n",
    "steps = np.random.choice([-1, 1], size=l) + 0.05 + np.random.randn(l) # l steps\n",
    "position = np.cumsum(steps) # integrate the position by summing steps values\n",
    "y = 0.5 * np.random.randn(l)"
   ]
  },
  {
   "cell_type": "code",
   "execution_count": 106,
   "metadata": {},
   "outputs": [
    {
     "data": {
      "image/png": "[encoded data removed]",
      "text/plain": [
       "<Figure size 432x288 with 1 Axes>"
      ]
     },
     "metadata": {
      "needs_background": "light"
     },
     "output_type": "display_data"
    },
    {
     "data": {
      "image/png": "[encoded data removed]",
      "text/plain": [
       "<Figure size 432x288 with 1 Axes>"
      ]
     },
     "metadata": {
      "needs_background": "light"
     },
     "output_type": "display_data"
    }
   ],
   "source": [
    "plt.plot(position)\n",
    "plt.show()\n",
    "\n",
    "plt.plot(y)\n",
    "plt.show()"
   ]
  }
 ],
 "metadata": {
  "kernelspec": {
   "display_name": "Python 3",
   "language": "python",
   "name": "python3"
  },
  "language_info": {
   "codemirror_mode": {
    "name": "ipython",
    "version": 3
   },
   "file_extension": ".py",
   "mimetype": "text/x-python",
   "name": "python",
   "nbconvert_exporter": "python",
   "pygments_lexer": "ipython3",
   "version": "3.8.5"
  },
  "toc": {
   "base_numbering": 1,
   "nav_menu": {},
   "number_sections": true,
   "sideBar": true,
   "skip_h1_title": false,
   "title_cell": "Table of Contents",
   "title_sidebar": "Contents",
   "toc_cell": false,
   "toc_position": {
    "height": "calc(100% - 180px)",
    "left": "10px",
    "top": "150px",
    "width": "298.797px"
   },
   "toc_section_display": true,
   "toc_window_display": true
  }
 },
 "nbformat": 4,
 "nbformat_minor": 4
}
